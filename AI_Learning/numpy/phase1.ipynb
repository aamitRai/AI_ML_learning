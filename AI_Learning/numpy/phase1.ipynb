{
 "cells": [
  {
   "cell_type": "code",
   "execution_count": 35,
   "id": "c360926d",
   "metadata": {},
   "outputs": [
    {
     "name": "stdout",
     "output_type": "stream",
     "text": [
      "[1 2 3]\n",
      "[[1 3 5]\n",
      " [6 7 8]]\n"
     ]
    }
   ],
   "source": [
    "import numpy as np\n",
    "### one d array\n",
    "arr1=np.array([1,2,3])\n",
    "print(arr1)\n",
    "### two d array\n",
    "arry2=np.array([[1,3,5],[6,7,8]])\n",
    "print(arry2)"
   ]
  },
  {
   "cell_type": "code",
   "execution_count": 36,
   "id": "f6dccd52",
   "metadata": {},
   "outputs": [
    {
     "name": "stdout",
     "output_type": "stream",
     "text": [
      "arr1 [[0. 0. 0.]\n",
      " [0. 0. 0.]]\n"
     ]
    }
   ],
   "source": [
    "# zeores\n",
    "arr1=np.zeros((2,3))\n",
    "print(\"arr1\",arr1)"
   ]
  },
  {
   "cell_type": "code",
   "execution_count": 37,
   "id": "4c90f7dd",
   "metadata": {},
   "outputs": [
    {
     "name": "stdout",
     "output_type": "stream",
     "text": [
      "arr1 [[1. 1. 1.]\n",
      " [1. 1. 1.]]\n"
     ]
    }
   ],
   "source": [
    "# Ones\n",
    "arr1=np.ones((2,3))\n",
    "print(\"arr1\",arr1)\n"
   ]
  },
  {
   "cell_type": "code",
   "execution_count": 38,
   "id": "6e8c1403",
   "metadata": {},
   "outputs": [
    {
     "name": "stdout",
     "output_type": "stream",
     "text": [
      "[[5 5 5]\n",
      " [5 5 5]]\n"
     ]
    }
   ],
   "source": [
    "# full\n",
    "arr1=np.full((2,3),5)\n",
    "print(arr1)\n",
    "\n"
   ]
  },
  {
   "cell_type": "code",
   "execution_count": 41,
   "id": "30410dde",
   "metadata": {},
   "outputs": [
    {
     "name": "stdout",
     "output_type": "stream",
     "text": [
      "[[0.8946162  0.73039095 0.50919792]\n",
      " [0.40396457 0.2792065  0.58627278]]\n",
      "seq [1 3 5 7 9]\n"
     ]
    }
   ],
   "source": [
    "# Random\n",
    "random=np.random.random((2,3))\n",
    "print(random)\n",
    "\n",
    "#sequence\n",
    "seq=np.arange(1,10,2)\n",
    "print(\"seq\",seq)\n"
   ]
  },
  {
   "cell_type": "code",
   "execution_count": 45,
   "id": "fe4b042f",
   "metadata": {},
   "outputs": [
    {
     "name": "stdout",
     "output_type": "stream",
     "text": [
      "shape (2, 3)\n",
      "Dimension 2\n",
      "size 6\n",
      "Dtype int64\n"
     ]
    }
   ],
   "source": [
    "arr=np.array([[1,2,3],[4,5,6]])\n",
    "print(\"shape\",arr.shape)\n",
    "print(\"Dimension\",arr.ndim)\n",
    "print(\"size\",arr.size)\n",
    "print(\"Dtype\",arr.dtype)\n",
    "\n"
   ]
  },
  {
   "cell_type": "code",
   "execution_count": 55,
   "id": "8d6c21ad",
   "metadata": {},
   "outputs": [
    {
     "name": "stdout",
     "output_type": "stream",
     "text": [
      "[ 0  1  2  3  4  5  6  7  8  9 10 11 12 13 14]\n",
      "[[ 0  1  2  3  4]\n",
      " [ 5  6  7  8  9]\n",
      " [10 11 12 13 14]]\n",
      "[ 0  1  2  3  4  5  6  7  8  9 10 11 12 13 14]\n",
      "raveld [ 0  1  2  3  4  5  6  7  8  9 10 11 12 13 14]\n"
     ]
    }
   ],
   "source": [
    "#Reshaping\n",
    "arr1=np.arange(15)\n",
    "print(arr1)\n",
    "arr1=arr1.reshape((3,5))\n",
    "print(arr1)\n",
    "\n",
    "#flatten\n",
    "arr1=arr1.flatten()\n",
    "print(arr1)\n",
    "\n",
    "#ravel\n",
    "raveld=arr1.ravel()\n",
    "print(\"raveld\",raveld)\n",
    "\n"
   ]
  },
  {
   "cell_type": "code",
   "execution_count": 7,
   "id": "c97bf5ba",
   "metadata": {},
   "outputs": [
    {
     "name": "stdout",
     "output_type": "stream",
     "text": [
      "[ 0  1  2  3  4  5  6  7  8  9 10 11 12 13 14]\n",
      "[[ 0  1  2  3  4]\n",
      " [ 5  6  7  8  9]\n",
      " [10 11 12 13 14]]\n",
      "[[ 0  5 10]\n",
      " [ 1  6 11]\n",
      " [ 2  7 12]\n",
      " [ 3  8 13]\n",
      " [ 4  9 14]]\n",
      "[     15  810000  945000 1085000 1240000]\n",
      "0\n",
      "1\n",
      "100\n",
      "0\n"
     ]
    }
   ],
   "source": [
    "import numpy as np\n",
    "#Transpose\n",
    "arr1=np.arange(15)\n",
    "print(arr1)\n",
    "arr1=arr1.reshape((3,5))\n",
    "print(arr1)\n",
    "arr1=arr1.T\n",
    "print(arr1)\n",
    "\n",
    "\n",
    "# Sum \n",
    "sales_data = np.array([\n",
    "    [1, 150000, 180000, 220000, 250000],  \n",
    "    [2, 120000, 140000, 160000, 190000],  \n",
    "    [3, 200000, 230000, 260000, 300000],\n",
    "    [4, 180000, 210000, 240000, 270000],\n",
    "    [5, 160000, 185000, 205000, 230000]  \n",
    "])\n",
    "print(np.sum(sales_data,axis=0))\n",
    "\n",
    "# axis =0 : sum column row wise\n",
    "# axis =1 : sum row wise \n",
    "\n",
    "\n",
    "#max & min \n",
    "arr=np.array([100, 0 , 1 , 2,  3 , 4,  5  ,6  ,7 , 8  ,9 ,10, 11 ,12 ,13, 14])\n",
    "print(np.min(arr))\n",
    "#it print the index also \n",
    "print(np.argmin(arr)) \n",
    "print(np.max(arr))\n",
    "#it print the index also \n",
    "print(np.argmax(arr)) \n",
    "\n",
    "\n"
   ]
  },
  {
   "cell_type": "code",
   "execution_count": null,
   "id": "59ec06ca",
   "metadata": {},
   "outputs": [],
   "source": []
  }
 ],
 "metadata": {
  "kernelspec": {
   "display_name": "myenv",
   "language": "python",
   "name": "python3"
  },
  "language_info": {
   "codemirror_mode": {
    "name": "ipython",
    "version": 3
   },
   "file_extension": ".py",
   "mimetype": "text/x-python",
   "name": "python",
   "nbconvert_exporter": "python",
   "pygments_lexer": "ipython3",
   "version": "3.13.4"
  }
 },
 "nbformat": 4,
 "nbformat_minor": 5
}
