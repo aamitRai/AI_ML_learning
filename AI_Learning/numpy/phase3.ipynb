{
 "cells": [
  {
   "cell_type": "code",
   "execution_count": null,
   "id": "53674750",
   "metadata": {},
   "outputs": [
    {
     "name": "stdout",
     "output_type": "stream",
     "text": [
      "zomoto sales analysis===\n",
      "sales data shape  (5, 5)\n",
      "first three [[     1 150000 180000 220000 250000]\n",
      " [     2 120000 140000 160000 190000]\n",
      " [     3 200000 230000 260000 300000]]\n",
      "data [[150000 180000 220000 250000]\n",
      " [120000 140000 160000 190000]\n",
      " [200000 230000 260000 300000]\n",
      " [180000 210000 240000 270000]\n",
      " [160000 185000 205000 230000]]\n",
      "total sales per year [     15  810000  945000 1085000 1240000]\n",
      "total sales per year [ 810000  945000 1085000 1240000]\n",
      "[150000 120000 200000 180000 160000]\n",
      "1\n",
      "[250000 190000 300000 270000 230000]\n",
      "2\n",
      "[2 2 2 2]\n",
      "average [200000. 152500. 247500. 225000. 195000.]\n"
     ]
    }
   ],
   "source": [
    "import numpy as np\n",
    "import matplotlib.pyplot as plt \n",
    "# axis =0 top to bottom column\n",
    "# axis =1 left to right\n",
    "\n",
    "# sales_data[:,1:] : first reperenst row ,second represent column \n",
    "\n",
    "# data structure : [resturant_id ,2021,2022,2023,2024]\n",
    "\n",
    "sales_data = np.array([\n",
    "    [1, 150000, 180000, 220000, 250000],  # Paradise Biryani\n",
    "    [2, 120000, 140000, 160000, 190000],  # Beijing Bites\n",
    "    [3, 200000, 230000, 260000, 300000],  # Pizza Hub\n",
    "    [4, 180000, 210000, 240000, 270000],  # Burger Point\n",
    "    [5, 160000, 185000, 205000, 230000]   # Chai Point\n",
    "])\n",
    "\n",
    "print(\"zomoto sales analysis===\")\n",
    "print(\"sales data shape \",sales_data.shape)\n",
    "\n",
    "# question print first 3 resturant data\n",
    "print(\"first three\" ,sales_data[:3])\n",
    "\n",
    "print(\"data\",sales_data[:,1:])\n",
    "\n",
    "print(\"total sales per year\",np.sum(sales_data,axis=0))\n",
    "print(\"total sales per year\",np.sum(sales_data[:,1:],axis=0))\n",
    "\n",
    "\n",
    "\n",
    "#minimim sales per resturant \n",
    "min_sales = np.min(sales_data[ : ,1: ] ,axis=1)\n",
    "print(min_sales)\n",
    "\n",
    "print(np.argmin(min_sales))\n",
    "\n",
    "\n",
    "# maximum sales_data\n",
    "max_sales = np.max(sales_data[ : ,1: ] ,axis=1)\n",
    "print(max_sales)\n",
    "print(np.argmax(min_sales))\n",
    "\n",
    "\n",
    "# find max sale of 2021\n",
    "print(np.argmax(sales_data[:,1:],axis=0))\n",
    "\n",
    "#average sales per resturant\n",
    "# \n",
    "print(\"average\", np.mean(sales_data[:,1:],axis=1))\n",
    "\n",
    "\n",
    "\n",
    "\n",
    "\n"
   ]
  }
 ],
 "metadata": {
  "kernelspec": {
   "display_name": "myenv",
   "language": "python",
   "name": "python3"
  },
  "language_info": {
   "codemirror_mode": {
    "name": "ipython",
    "version": 3
   },
   "file_extension": ".py",
   "mimetype": "text/x-python",
   "name": "python",
   "nbconvert_exporter": "python",
   "pygments_lexer": "ipython3",
   "version": "3.13.4"
  }
 },
 "nbformat": 4,
 "nbformat_minor": 5
}
